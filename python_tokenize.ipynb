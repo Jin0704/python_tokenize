{
  "nbformat": 4,
  "nbformat_minor": 0,
  "metadata": {
    "colab": {
      "provenance": [],
      "authorship_tag": "ABX9TyOFZsD5uf9OSCzT3mJ1uKQ2",
      "include_colab_link": true
    },
    "kernelspec": {
      "name": "python3",
      "display_name": "Python 3"
    },
    "language_info": {
      "name": "python"
    }
  },
  "cells": [
    {
      "cell_type": "markdown",
      "metadata": {
        "id": "view-in-github",
        "colab_type": "text"
      },
      "source": [
        "<a href=\"https://colab.research.google.com/github/Jin0704/python_tokenize/blob/main/python_tokenize.ipynb\" target=\"_parent\"><img src=\"https://colab.research.google.com/assets/colab-badge.svg\" alt=\"Open In Colab\"/></a>"
      ]
    },
    {
      "cell_type": "code",
      "execution_count": 1,
      "metadata": {
        "id": "N1kLyGm-pdju"
      },
      "outputs": [],
      "source": [
        "import requests\n",
        "from bs4 import BeautifulSoup"
      ]
    },
    {
      "cell_type": "code",
      "source": [
        "res = requests.get(\"https://udn.com/news/breaknews/1\")\n",
        "soup = BeautifulSoup(res.text)"
      ],
      "metadata": {
        "id": "OwJOfv_5pm6N"
      },
      "execution_count": 2,
      "outputs": []
    },
    {
      "cell_type": "code",
      "source": [
        "news = []\n",
        "\n",
        "for link in soup.find_all('h3', class_='rounded-thumb__title')[:4]:\n",
        "  print(link)\n",
        "  news_url = link.a['href']\n",
        "  news_response = requests.get('https://udn.com' + news_url)\n",
        "  news_soup = BeautifulSoup(news_response.text)\n",
        "  news_content = news_soup.find('div', class_='article-content__paragraph').text.strip().replace('\\n', ' ')\n",
        "  news.append(news_content)"
      ],
      "metadata": {
        "colab": {
          "base_uri": "https://localhost:8080/"
        },
        "id": "OEAB6GKEpqrL",
        "outputId": "32a1ca2d-f301-4957-b2ed-6be3bc0881b1"
      },
      "execution_count": 3,
      "outputs": [
        {
          "output_type": "stream",
          "name": "stdout",
          "text": [
            "<h3 class=\"rounded-thumb__title\">\n",
            "<a data-content_level=\"開放閱讀\" data-story_list=\"list__熱門新聞\" href=\"/news/story/7266/7290519?from=udn-catehotnews_ch2\" title=\"可以降溫了！11縣市大雨特報 恐下到晚上\">可以降溫了！11縣市大雨特報 恐下到晚上</a>\n",
            "</h3>\n",
            "<h3 class=\"rounded-thumb__title\">\n",
            "<a data-content_level=\"開放閱讀\" data-story_list=\"list__熱門新聞\" href=\"/news/story/120911/7289969?from=udn-catehotnews_ch2\" title=\"阿堂鹹粥漲價被批 鼎泰豐、周氏蝦捲價高卻沒事？他指「四字關鍵」\">阿堂鹹粥漲價被批 鼎泰豐、周氏蝦捲價高卻沒事？他指「四字關鍵」</a>\n",
            "</h3>\n",
            "<h3 class=\"rounded-thumb__title\">\n",
            "<a data-content_level=\"開放閱讀\" data-story_list=\"list__熱門新聞\" href=\"/news/story/6885/7291724?from=udn-catehotnews_ch2\" title=\"會考生注意！高中免試入學上午11時放榜 查詢網址在這裡\">會考生注意！高中免試入學上午11時放榜 查詢網址在這裡</a>\n",
            "</h3>\n",
            "<h3 class=\"rounded-thumb__title\">\n",
            "<a data-content_level=\"開放閱讀\" data-story_list=\"list__熱門新聞\" href=\"/news/story/123615/7291681?from=udn-catehotnews_ch2\" title=\"北科大白飯之亂 資財營再聲明列7點澄清：我們絕對不是飯桶系\">北科大白飯之亂 資財營再聲明列7點澄清：我們絕對不是飯桶系</a>\n",
            "</h3>\n",
            "4\n"
          ]
        }
      ]
    },
    {
      "cell_type": "code",
      "source": [],
      "metadata": {
        "id": "lQnx9qFQpuW_"
      },
      "execution_count": null,
      "outputs": []
    }
  ]
}